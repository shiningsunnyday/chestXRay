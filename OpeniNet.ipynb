{
 "cells": [
  {
   "cell_type": "code",
   "execution_count": 2,
   "metadata": {},
   "outputs": [],
   "source": [
    "from data_loader import OpenI\n",
    "from PIL import Image\n",
    "from utils import transform_xray\n",
    "import cv2\n",
    "import numpy as np\n"
   ]
  },
  {
   "cell_type": "code",
   "execution_count": 3,
   "metadata": {
    "scrolled": true
   },
   "outputs": [
    {
     "name": "stdout",
     "output_type": "stream",
     "text": [
      "2630 train examples: 63.8% Abnormal\n",
      "376 dev examples: 63.0% Abnormal\n",
      "378 test examples: 61.6% Abnormal\n"
     ]
    }
   ],
   "source": [
    "train = OpenI('train', 'data', transform_xray())\n",
    "dev = OpenI('dev', 'data', transform_xray(), doc2vec_file=\"report2vec.model\")\n",
    "test = OpenI('test', 'data', transform_xray(), doc2vec_file=\"report2vec.model\")"
   ]
  },
  {
   "cell_type": "code",
   "execution_count": 4,
   "metadata": {
    "scrolled": false
   },
   "outputs": [
    {
     "data": {
      "text/plain": [
       "(tensor([[[-2.0372, -2.0372, -2.0373,  ..., -2.0381, -2.0383, -2.0384],\n",
       "          [-2.0377, -2.0377, -2.0378,  ..., -2.0385, -2.0387, -2.0387],\n",
       "          [-2.0381, -2.0381, -2.0382,  ..., -2.0387, -2.0387, -2.0387],\n",
       "          ...,\n",
       "          [-2.0315, -2.0317, -2.0319,  ..., -2.0317, -2.0315, -2.0319],\n",
       "          [-2.0314, -2.0316, -2.0318,  ..., -2.0315, -2.0314, -2.0319],\n",
       "          [-2.0312, -2.0314, -2.0315,  ..., -2.0314, -2.0313, -2.0318]]]),\n",
       " array([ 3.3777591e-02,  4.9103141e-01,  1.9354229e-01, -1.2531823e-01,\n",
       "         5.2713019e-01,  3.8468670e-02, -6.5856659e-01,  6.6574775e-02,\n",
       "        -3.1779152e-01, -4.4784409e-01, -3.3948410e-01, -7.0079452e-01,\n",
       "         1.2279604e-01,  2.2411126e-01, -2.6542609e-04, -1.2885706e-01,\n",
       "        -1.3201056e-01, -5.4415888e-01,  1.1467560e-01, -5.6290954e-01,\n",
       "        -4.1318166e-01, -3.0322787e-01, -3.7136782e-02,  1.5613073e-01,\n",
       "         2.1970606e-01,  6.7922033e-02,  2.5227845e-01,  2.8716901e-01,\n",
       "         4.5978612e-01, -4.5900053e-01,  5.1857680e-01, -4.9847257e-01,\n",
       "        -1.5690764e-02,  3.0116588e-01, -1.5889819e-01, -5.7351393e-01,\n",
       "         4.1825229e-01,  4.2706692e-01,  6.6055495e-01,  6.6374236e-01,\n",
       "        -2.7508339e-01,  5.0644875e-01, -4.1860279e-01, -4.7455534e-01,\n",
       "         4.3053068e-02, -5.2680194e-01, -7.7187330e-01, -6.9461101e-01,\n",
       "         5.6392089e-02,  3.4666157e-01], dtype=float32))"
      ]
     },
     "execution_count": 4,
     "metadata": {},
     "output_type": "execute_result"
    }
   ],
   "source": [
    "# We build a quick doc2vec model with the train dataset"
   ]
  },
  {
   "cell_type": "code",
   "execution_count": null,
   "metadata": {},
   "outputs": [],
   "source": []
  },
  {
   "cell_type": "code",
   "execution_count": null,
   "metadata": {},
   "outputs": [],
   "source": []
  }
 ],
 "metadata": {
  "kernelspec": {
   "display_name": "Python 3",
   "language": "python",
   "name": "python3"
  },
  "language_info": {
   "codemirror_mode": {
    "name": "ipython",
    "version": 3
   },
   "file_extension": ".py",
   "mimetype": "text/x-python",
   "name": "python",
   "nbconvert_exporter": "python",
   "pygments_lexer": "ipython3",
   "version": "3.7.6"
  }
 },
 "nbformat": 4,
 "nbformat_minor": 2
}
